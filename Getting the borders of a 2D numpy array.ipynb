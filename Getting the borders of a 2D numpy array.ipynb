{
 "cells": [
  {
   "cell_type": "markdown",
   "id": "fab832b4",
   "metadata": {},
   "source": [
    "## Getting the borders of a 2D numpy array"
   ]
  },
  {
   "cell_type": "code",
   "execution_count": 20,
   "id": "91e51027",
   "metadata": {},
   "outputs": [
    {
     "name": "stdout",
     "output_type": "stream",
     "text": [
      "[11 21 31]\n",
      "[11 12 13 14]\n",
      "[14 24 34]\n",
      "[31 32 33 34]\n"
     ]
    }
   ],
   "source": [
    "input_list = [[11, 12, 13, 14],\n",
    "              [21, 22, 23, 24],\n",
    "              [31, 32, 33, 34]]\n",
    "\n",
    "import numpy as np\n",
    "\n",
    "# Convert the input list to a NumPy array\n",
    "array_2d =np.array(input_list)\n",
    "\n",
    "# Extract the first column, first row, last column and last row respectively using\n",
    "# appropriate indexing\n",
    "\n",
    "x = array_2d.shape\n",
    "\n",
    "col_first = array_2d[:,0]\n",
    "row_first = array_2d[0,:]\n",
    "col_last = array_2d[:,x[1]-1]\n",
    "row_last = array_2d[x[0]-1]\n",
    "\n",
    "print(col_first) \n",
    "print(row_first) \n",
    "print(col_last) \n",
    "print(row_last)"
   ]
  },
  {
   "cell_type": "code",
   "execution_count": null,
   "id": "3c585777",
   "metadata": {},
   "outputs": [],
   "source": []
  }
 ],
 "metadata": {
  "kernelspec": {
   "display_name": "Python 3 (ipykernel)",
   "language": "python",
   "name": "python3"
  },
  "language_info": {
   "codemirror_mode": {
    "name": "ipython",
    "version": 3
   },
   "file_extension": ".py",
   "mimetype": "text/x-python",
   "name": "python",
   "nbconvert_exporter": "python",
   "pygments_lexer": "ipython3",
   "version": "3.9.7"
  }
 },
 "nbformat": 4,
 "nbformat_minor": 5
}
